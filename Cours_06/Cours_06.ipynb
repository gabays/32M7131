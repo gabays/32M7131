{
  "nbformat": 4,
  "nbformat_minor": 0,
  "metadata": {
    "colab": {
      "provenance": []
    },
    "kernelspec": {
      "name": "python3",
      "display_name": "Python 3"
    },
    "language_info": {
      "name": "python"
    }
  },
  "cells": [
    {
      "cell_type": "markdown",
      "source": [
        "[![Open In Colab](https://colab.research.google.com/assets/colab-badge.svg)](https://colab.research.google.com/github/gabays/32M7131/blob/main/Cours_06/Cours_06.ipynb)\n",
        "\n",
        "<a rel=\"license\" href=\"http://creativecommons.org/licenses/by/4.0/\"><img alt=\"Licence Creative Commons\" style=\"border-width:0;float:right;\\\" src=\"https://i.creativecommons.org/l/by/4.0/88x31.png\" /></a>\n",
        "\n",
        "Distant Reading 2: linguistique computationnelle\n",
        "\n",
        "# Les tâches de classification\n",
        "\n",
        "Simon Gabay\n"
      ],
      "metadata": {
        "id": "IKgGZ_v0z7Kk"
      }
    },
    {
      "cell_type": "markdown",
      "source": [
        "## Préparation de l'expérience\n",
        "Nous devons récupérer:\n",
        "- des _embeddings_\n",
        "- un corpus de travail pour la classification"
      ],
      "metadata": {
        "id": "CInnfebS1BJ8"
      }
    },
    {
      "cell_type": "markdown",
      "source": [
        "### Embbedings"
      ],
      "metadata": {
        "id": "te6FBTmg1z1i"
      }
    },
    {
      "cell_type": "markdown",
      "source": [
        "On télécharge des embeddings"
      ],
      "metadata": {
        "id": "3KHUBvJl12lO"
      }
    },
    {
      "cell_type": "code",
      "source": [
        "!pip install gensim==4.2\n",
        "import gensim\n",
        "print(gensim.__version__)\n",
        "from gensim.models import KeyedVectors\n",
        "!wget https://embeddings.net/embeddings/frWiki_no_lem_no_postag_no_phrase_1000_cbow_cut100.bin\n",
        "MyModel = KeyedVectors.load_word2vec_format(\"/content/frWiki_no_lem_no_postag_no_phrase_1000_cbow_cut100.bin\", binary=True)\n",
        "MyModel.most_similar(\"intéressant\")"
      ],
      "metadata": {
        "id": "_1GZDln8127a"
      },
      "execution_count": null,
      "outputs": []
    },
    {
      "cell_type": "markdown",
      "source": [
        "### Corpus"
      ],
      "metadata": {
        "id": "tt7I5jaW1v4N"
      }
    },
    {
      "cell_type": "code",
      "execution_count": 2,
      "metadata": {
        "colab": {
          "base_uri": "https://localhost:8080/"
        },
        "id": "Mit5Ue74z5Bz",
        "outputId": "7f5bc58c-6b94-44e8-b4c4-cb98e047d104"
      },
      "outputs": [
        {
          "output_type": "stream",
          "name": "stdout",
          "text": [
            "rm: cannot remove 'ComTra.tsv': No such file or directory\n",
            "--2023-04-17 15:47:23--  https://raw.githubusercontent.com/gabays/32M7131/main/Cours_05/ComTra.tsv\n",
            "Resolving raw.githubusercontent.com (raw.githubusercontent.com)... 185.199.108.133, 185.199.109.133, 185.199.110.133, ...\n",
            "Connecting to raw.githubusercontent.com (raw.githubusercontent.com)|185.199.108.133|:443... connected.\n",
            "HTTP request sent, awaiting response... 200 OK\n",
            "Length: 771418 (753K) [text/plain]\n",
            "Saving to: ‘ComTra.tsv’\n",
            "\n",
            "ComTra.tsv          100%[===================>] 753.34K  --.-KB/s    in 0.04s   \n",
            "\n",
            "2023-04-17 15:47:23 (16.7 MB/s) - ‘ComTra.tsv’ saved [771418/771418]\n",
            "\n"
          ]
        }
      ],
      "source": [
        "#On le récupère en ligne\n",
        "!rm ComTra.tsv\n",
        "!wget https://raw.githubusercontent.com/gabays/32M7131/main/Cours_05/ComTra.tsv"
      ]
    },
    {
      "cell_type": "markdown",
      "source": [
        "Les comédies commencent par `1`"
      ],
      "metadata": {
        "id": "y9EXBgt50RVM"
      }
    },
    {
      "cell_type": "code",
      "source": [
        "!head ComTra.tsv"
      ],
      "metadata": {
        "colab": {
          "base_uri": "https://localhost:8080/"
        },
        "id": "rFtTXahc0PHH",
        "outputId": "220e497b-16cb-4086-f6e9-5adf9f672896"
      },
      "execution_count": 3,
      "outputs": [
        {
          "output_type": "stream",
          "name": "stdout",
          "text": [
            "1\tChrysalde, Vous venez, dites-vous, pour lui donner la main ?\n",
            "1\tOui, je veux terminer la chose dans demain.\n",
            "1\tNous sommes ici seuls ; et l'on peut, ce me semble,\n",
            "1\tSans craindre d'être ouïs, y discourir ensemble.\n",
            "1\tVoulez-vous qu'en ami je vous ouvre mon coeur ?\n",
            "1\tVotre dessein pour vous me fait trembler de peur ;\n",
            "1\tEt de quelque façon que vous tourniez l'affaire,\n",
            "1\tPrendre femme, est à vous un coup bien téméraire.\n",
            "1\tIl est vrai, notre ami. Peut-être que chez vous\n",
            "1\tVous trouvez des sujets de craindre pour chez nous ;\n"
          ]
        }
      ]
    },
    {
      "cell_type": "markdown",
      "source": [
        "Les tragédies par `0`:"
      ],
      "metadata": {
        "id": "SA3-pd-30UJu"
      }
    },
    {
      "cell_type": "code",
      "source": [
        "!tail ComTra.tsv"
      ],
      "metadata": {
        "colab": {
          "base_uri": "https://localhost:8080/"
        },
        "id": "YuCRcHB30WbN",
        "outputId": "507a9273-47e0-4211-dc52-fc853f77e906"
      },
      "execution_count": 4,
      "outputs": [
        {
          "output_type": "stream",
          "name": "stdout",
          "text": [
            "0\tPar des noeuds éternels l'un à l'autre nous lie.\n",
            "0\tNous, Seigneur ?\n",
            "0\tQuoi, Madame ! osez-vous balancer ?\n",
            "0\tEt ne m'avez-vous pas défendu d'y penser ?\n",
            "0\tJ'eus mes raisons alors. Oublions-les, Madame. \n",
            "0\tNe songez maintenant qu'à répondre à ma flamme. \n",
            "0\tSongez que votre coeur est un bien qui m'est dû.\n",
            "0\tHé pourquoi donc, Seigneur, me l'avez-vous rendu ?\n",
            "0\tQuoi ! pour un fils ingrat toujours préoccupée\n",
            "0\tVous croiriez..."
          ]
        }
      ]
    },
    {
      "cell_type": "markdown",
      "source": [
        "Nous importons notre jeu de données pour l'entrainement."
      ],
      "metadata": {
        "id": "ozqBB6op0f_k"
      }
    },
    {
      "cell_type": "code",
      "source": [
        "import pandas as pd\n",
        "comTra = pd.read_csv('/content/ComTra.tsv', sep='\\t', header = None)\n",
        "comTra.head()"
      ],
      "metadata": {
        "colab": {
          "base_uri": "https://localhost:8080/",
          "height": 206
        },
        "id": "b_e6K7qp0b_c",
        "outputId": "8c0acc8f-a731-4e84-812b-637ad62a10aa"
      },
      "execution_count": 5,
      "outputs": [
        {
          "output_type": "execute_result",
          "data": {
            "text/plain": [
              "   0                                                  1\n",
              "0  1  Chrysalde, Vous venez, dites-vous, pour lui do...\n",
              "1  1        Oui, je veux terminer la chose dans demain.\n",
              "2  1  Nous sommes ici seuls ; et l'on peut, ce me se...\n",
              "3  1   Sans craindre d'être ouïs, y discourir ensemble.\n",
              "4  1    Voulez-vous qu'en ami je vous ouvre mon coeur ?"
            ],
            "text/html": [
              "\n",
              "  <div id=\"df-2fd5aefa-e0b5-464a-b956-b0dc600e2d63\">\n",
              "    <div class=\"colab-df-container\">\n",
              "      <div>\n",
              "<style scoped>\n",
              "    .dataframe tbody tr th:only-of-type {\n",
              "        vertical-align: middle;\n",
              "    }\n",
              "\n",
              "    .dataframe tbody tr th {\n",
              "        vertical-align: top;\n",
              "    }\n",
              "\n",
              "    .dataframe thead th {\n",
              "        text-align: right;\n",
              "    }\n",
              "</style>\n",
              "<table border=\"1\" class=\"dataframe\">\n",
              "  <thead>\n",
              "    <tr style=\"text-align: right;\">\n",
              "      <th></th>\n",
              "      <th>0</th>\n",
              "      <th>1</th>\n",
              "    </tr>\n",
              "  </thead>\n",
              "  <tbody>\n",
              "    <tr>\n",
              "      <th>0</th>\n",
              "      <td>1</td>\n",
              "      <td>Chrysalde, Vous venez, dites-vous, pour lui do...</td>\n",
              "    </tr>\n",
              "    <tr>\n",
              "      <th>1</th>\n",
              "      <td>1</td>\n",
              "      <td>Oui, je veux terminer la chose dans demain.</td>\n",
              "    </tr>\n",
              "    <tr>\n",
              "      <th>2</th>\n",
              "      <td>1</td>\n",
              "      <td>Nous sommes ici seuls ; et l'on peut, ce me se...</td>\n",
              "    </tr>\n",
              "    <tr>\n",
              "      <th>3</th>\n",
              "      <td>1</td>\n",
              "      <td>Sans craindre d'être ouïs, y discourir ensemble.</td>\n",
              "    </tr>\n",
              "    <tr>\n",
              "      <th>4</th>\n",
              "      <td>1</td>\n",
              "      <td>Voulez-vous qu'en ami je vous ouvre mon coeur ?</td>\n",
              "    </tr>\n",
              "  </tbody>\n",
              "</table>\n",
              "</div>\n",
              "      <button class=\"colab-df-convert\" onclick=\"convertToInteractive('df-2fd5aefa-e0b5-464a-b956-b0dc600e2d63')\"\n",
              "              title=\"Convert this dataframe to an interactive table.\"\n",
              "              style=\"display:none;\">\n",
              "        \n",
              "  <svg xmlns=\"http://www.w3.org/2000/svg\" height=\"24px\"viewBox=\"0 0 24 24\"\n",
              "       width=\"24px\">\n",
              "    <path d=\"M0 0h24v24H0V0z\" fill=\"none\"/>\n",
              "    <path d=\"M18.56 5.44l.94 2.06.94-2.06 2.06-.94-2.06-.94-.94-2.06-.94 2.06-2.06.94zm-11 1L8.5 8.5l.94-2.06 2.06-.94-2.06-.94L8.5 2.5l-.94 2.06-2.06.94zm10 10l.94 2.06.94-2.06 2.06-.94-2.06-.94-.94-2.06-.94 2.06-2.06.94z\"/><path d=\"M17.41 7.96l-1.37-1.37c-.4-.4-.92-.59-1.43-.59-.52 0-1.04.2-1.43.59L10.3 9.45l-7.72 7.72c-.78.78-.78 2.05 0 2.83L4 21.41c.39.39.9.59 1.41.59.51 0 1.02-.2 1.41-.59l7.78-7.78 2.81-2.81c.8-.78.8-2.07 0-2.86zM5.41 20L4 18.59l7.72-7.72 1.47 1.35L5.41 20z\"/>\n",
              "  </svg>\n",
              "      </button>\n",
              "      \n",
              "  <style>\n",
              "    .colab-df-container {\n",
              "      display:flex;\n",
              "      flex-wrap:wrap;\n",
              "      gap: 12px;\n",
              "    }\n",
              "\n",
              "    .colab-df-convert {\n",
              "      background-color: #E8F0FE;\n",
              "      border: none;\n",
              "      border-radius: 50%;\n",
              "      cursor: pointer;\n",
              "      display: none;\n",
              "      fill: #1967D2;\n",
              "      height: 32px;\n",
              "      padding: 0 0 0 0;\n",
              "      width: 32px;\n",
              "    }\n",
              "\n",
              "    .colab-df-convert:hover {\n",
              "      background-color: #E2EBFA;\n",
              "      box-shadow: 0px 1px 2px rgba(60, 64, 67, 0.3), 0px 1px 3px 1px rgba(60, 64, 67, 0.15);\n",
              "      fill: #174EA6;\n",
              "    }\n",
              "\n",
              "    [theme=dark] .colab-df-convert {\n",
              "      background-color: #3B4455;\n",
              "      fill: #D2E3FC;\n",
              "    }\n",
              "\n",
              "    [theme=dark] .colab-df-convert:hover {\n",
              "      background-color: #434B5C;\n",
              "      box-shadow: 0px 1px 3px 1px rgba(0, 0, 0, 0.15);\n",
              "      filter: drop-shadow(0px 1px 2px rgba(0, 0, 0, 0.3));\n",
              "      fill: #FFFFFF;\n",
              "    }\n",
              "  </style>\n",
              "\n",
              "      <script>\n",
              "        const buttonEl =\n",
              "          document.querySelector('#df-2fd5aefa-e0b5-464a-b956-b0dc600e2d63 button.colab-df-convert');\n",
              "        buttonEl.style.display =\n",
              "          google.colab.kernel.accessAllowed ? 'block' : 'none';\n",
              "\n",
              "        async function convertToInteractive(key) {\n",
              "          const element = document.querySelector('#df-2fd5aefa-e0b5-464a-b956-b0dc600e2d63');\n",
              "          const dataTable =\n",
              "            await google.colab.kernel.invokeFunction('convertToInteractive',\n",
              "                                                     [key], {});\n",
              "          if (!dataTable) return;\n",
              "\n",
              "          const docLinkHtml = 'Like what you see? Visit the ' +\n",
              "            '<a target=\"_blank\" href=https://colab.research.google.com/notebooks/data_table.ipynb>data table notebook</a>'\n",
              "            + ' to learn more about interactive tables.';\n",
              "          element.innerHTML = '';\n",
              "          dataTable['output_type'] = 'display_data';\n",
              "          await google.colab.output.renderOutput(dataTable, element);\n",
              "          const docLink = document.createElement('div');\n",
              "          docLink.innerHTML = docLinkHtml;\n",
              "          element.appendChild(docLink);\n",
              "        }\n",
              "      </script>\n",
              "    </div>\n",
              "  </div>\n",
              "  "
            ]
          },
          "metadata": {},
          "execution_count": 5
        }
      ]
    },
    {
      "cell_type": "markdown",
      "source": [
        "On renomme les colonnes"
      ],
      "metadata": {
        "id": "0X7YjYyF0u-m"
      }
    },
    {
      "cell_type": "code",
      "source": [
        "comTra.rename(columns={0:'Genre', 1:'Texte'}, inplace=True)\n",
        "comTra.head()"
      ],
      "metadata": {
        "colab": {
          "base_uri": "https://localhost:8080/",
          "height": 206
        },
        "id": "ALC3Kz230xBD",
        "outputId": "5beaf649-4e19-489a-ec0b-001b81f7ac12"
      },
      "execution_count": 6,
      "outputs": [
        {
          "output_type": "execute_result",
          "data": {
            "text/plain": [
              "   Genre                                              Texte\n",
              "0      1  Chrysalde, Vous venez, dites-vous, pour lui do...\n",
              "1      1        Oui, je veux terminer la chose dans demain.\n",
              "2      1  Nous sommes ici seuls ; et l'on peut, ce me se...\n",
              "3      1   Sans craindre d'être ouïs, y discourir ensemble.\n",
              "4      1    Voulez-vous qu'en ami je vous ouvre mon coeur ?"
            ],
            "text/html": [
              "\n",
              "  <div id=\"df-fd48ab6d-a0c8-4bb7-abb9-bdd53f392387\">\n",
              "    <div class=\"colab-df-container\">\n",
              "      <div>\n",
              "<style scoped>\n",
              "    .dataframe tbody tr th:only-of-type {\n",
              "        vertical-align: middle;\n",
              "    }\n",
              "\n",
              "    .dataframe tbody tr th {\n",
              "        vertical-align: top;\n",
              "    }\n",
              "\n",
              "    .dataframe thead th {\n",
              "        text-align: right;\n",
              "    }\n",
              "</style>\n",
              "<table border=\"1\" class=\"dataframe\">\n",
              "  <thead>\n",
              "    <tr style=\"text-align: right;\">\n",
              "      <th></th>\n",
              "      <th>Genre</th>\n",
              "      <th>Texte</th>\n",
              "    </tr>\n",
              "  </thead>\n",
              "  <tbody>\n",
              "    <tr>\n",
              "      <th>0</th>\n",
              "      <td>1</td>\n",
              "      <td>Chrysalde, Vous venez, dites-vous, pour lui do...</td>\n",
              "    </tr>\n",
              "    <tr>\n",
              "      <th>1</th>\n",
              "      <td>1</td>\n",
              "      <td>Oui, je veux terminer la chose dans demain.</td>\n",
              "    </tr>\n",
              "    <tr>\n",
              "      <th>2</th>\n",
              "      <td>1</td>\n",
              "      <td>Nous sommes ici seuls ; et l'on peut, ce me se...</td>\n",
              "    </tr>\n",
              "    <tr>\n",
              "      <th>3</th>\n",
              "      <td>1</td>\n",
              "      <td>Sans craindre d'être ouïs, y discourir ensemble.</td>\n",
              "    </tr>\n",
              "    <tr>\n",
              "      <th>4</th>\n",
              "      <td>1</td>\n",
              "      <td>Voulez-vous qu'en ami je vous ouvre mon coeur ?</td>\n",
              "    </tr>\n",
              "  </tbody>\n",
              "</table>\n",
              "</div>\n",
              "      <button class=\"colab-df-convert\" onclick=\"convertToInteractive('df-fd48ab6d-a0c8-4bb7-abb9-bdd53f392387')\"\n",
              "              title=\"Convert this dataframe to an interactive table.\"\n",
              "              style=\"display:none;\">\n",
              "        \n",
              "  <svg xmlns=\"http://www.w3.org/2000/svg\" height=\"24px\"viewBox=\"0 0 24 24\"\n",
              "       width=\"24px\">\n",
              "    <path d=\"M0 0h24v24H0V0z\" fill=\"none\"/>\n",
              "    <path d=\"M18.56 5.44l.94 2.06.94-2.06 2.06-.94-2.06-.94-.94-2.06-.94 2.06-2.06.94zm-11 1L8.5 8.5l.94-2.06 2.06-.94-2.06-.94L8.5 2.5l-.94 2.06-2.06.94zm10 10l.94 2.06.94-2.06 2.06-.94-2.06-.94-.94-2.06-.94 2.06-2.06.94z\"/><path d=\"M17.41 7.96l-1.37-1.37c-.4-.4-.92-.59-1.43-.59-.52 0-1.04.2-1.43.59L10.3 9.45l-7.72 7.72c-.78.78-.78 2.05 0 2.83L4 21.41c.39.39.9.59 1.41.59.51 0 1.02-.2 1.41-.59l7.78-7.78 2.81-2.81c.8-.78.8-2.07 0-2.86zM5.41 20L4 18.59l7.72-7.72 1.47 1.35L5.41 20z\"/>\n",
              "  </svg>\n",
              "      </button>\n",
              "      \n",
              "  <style>\n",
              "    .colab-df-container {\n",
              "      display:flex;\n",
              "      flex-wrap:wrap;\n",
              "      gap: 12px;\n",
              "    }\n",
              "\n",
              "    .colab-df-convert {\n",
              "      background-color: #E8F0FE;\n",
              "      border: none;\n",
              "      border-radius: 50%;\n",
              "      cursor: pointer;\n",
              "      display: none;\n",
              "      fill: #1967D2;\n",
              "      height: 32px;\n",
              "      padding: 0 0 0 0;\n",
              "      width: 32px;\n",
              "    }\n",
              "\n",
              "    .colab-df-convert:hover {\n",
              "      background-color: #E2EBFA;\n",
              "      box-shadow: 0px 1px 2px rgba(60, 64, 67, 0.3), 0px 1px 3px 1px rgba(60, 64, 67, 0.15);\n",
              "      fill: #174EA6;\n",
              "    }\n",
              "\n",
              "    [theme=dark] .colab-df-convert {\n",
              "      background-color: #3B4455;\n",
              "      fill: #D2E3FC;\n",
              "    }\n",
              "\n",
              "    [theme=dark] .colab-df-convert:hover {\n",
              "      background-color: #434B5C;\n",
              "      box-shadow: 0px 1px 3px 1px rgba(0, 0, 0, 0.15);\n",
              "      filter: drop-shadow(0px 1px 2px rgba(0, 0, 0, 0.3));\n",
              "      fill: #FFFFFF;\n",
              "    }\n",
              "  </style>\n",
              "\n",
              "      <script>\n",
              "        const buttonEl =\n",
              "          document.querySelector('#df-fd48ab6d-a0c8-4bb7-abb9-bdd53f392387 button.colab-df-convert');\n",
              "        buttonEl.style.display =\n",
              "          google.colab.kernel.accessAllowed ? 'block' : 'none';\n",
              "\n",
              "        async function convertToInteractive(key) {\n",
              "          const element = document.querySelector('#df-fd48ab6d-a0c8-4bb7-abb9-bdd53f392387');\n",
              "          const dataTable =\n",
              "            await google.colab.kernel.invokeFunction('convertToInteractive',\n",
              "                                                     [key], {});\n",
              "          if (!dataTable) return;\n",
              "\n",
              "          const docLinkHtml = 'Like what you see? Visit the ' +\n",
              "            '<a target=\"_blank\" href=https://colab.research.google.com/notebooks/data_table.ipynb>data table notebook</a>'\n",
              "            + ' to learn more about interactive tables.';\n",
              "          element.innerHTML = '';\n",
              "          dataTable['output_type'] = 'display_data';\n",
              "          await google.colab.output.renderOutput(dataTable, element);\n",
              "          const docLink = document.createElement('div');\n",
              "          docLink.innerHTML = docLinkHtml;\n",
              "          element.appendChild(docLink);\n",
              "        }\n",
              "      </script>\n",
              "    </div>\n",
              "  </div>\n",
              "  "
            ]
          },
          "metadata": {},
          "execution_count": 6
        }
      ]
    },
    {
      "cell_type": "markdown",
      "source": [
        "On va un peu mélanger les lignes, sinon on va avoir toutes les comédies à la suite, puis toutes les tragédies."
      ],
      "metadata": {
        "id": "SMFIBJNM0zNU"
      }
    },
    {
      "cell_type": "code",
      "source": [
        "comTra = comTra.sample(frac=1).reset_index(drop=True)\n",
        "comTra.head()"
      ],
      "metadata": {
        "colab": {
          "base_uri": "https://localhost:8080/",
          "height": 206
        },
        "id": "JICivPMg011y",
        "outputId": "b2286f81-077d-4223-85b6-22c803761e11"
      },
      "execution_count": 7,
      "outputs": [
        {
          "output_type": "execute_result",
          "data": {
            "text/plain": [
              "   Genre                                              Texte\n",
              "0      1                                        Mon Dieu ! \n",
              "1      0          Fuyez, Hémon, fuyez de la fille d'Oedipe,\n",
              "2      1   Et ne porte le noir qu'aux bons jours seulement.\n",
              "3      1  Ce langage, il est vrai, peut être obscur parf...\n",
              "4      1    Souvent nous avons peine à dire pourquoi c'est."
            ],
            "text/html": [
              "\n",
              "  <div id=\"df-69c6dd77-2c86-4cf7-925e-2a17f28de7f9\">\n",
              "    <div class=\"colab-df-container\">\n",
              "      <div>\n",
              "<style scoped>\n",
              "    .dataframe tbody tr th:only-of-type {\n",
              "        vertical-align: middle;\n",
              "    }\n",
              "\n",
              "    .dataframe tbody tr th {\n",
              "        vertical-align: top;\n",
              "    }\n",
              "\n",
              "    .dataframe thead th {\n",
              "        text-align: right;\n",
              "    }\n",
              "</style>\n",
              "<table border=\"1\" class=\"dataframe\">\n",
              "  <thead>\n",
              "    <tr style=\"text-align: right;\">\n",
              "      <th></th>\n",
              "      <th>Genre</th>\n",
              "      <th>Texte</th>\n",
              "    </tr>\n",
              "  </thead>\n",
              "  <tbody>\n",
              "    <tr>\n",
              "      <th>0</th>\n",
              "      <td>1</td>\n",
              "      <td>Mon Dieu !</td>\n",
              "    </tr>\n",
              "    <tr>\n",
              "      <th>1</th>\n",
              "      <td>0</td>\n",
              "      <td>Fuyez, Hémon, fuyez de la fille d'Oedipe,</td>\n",
              "    </tr>\n",
              "    <tr>\n",
              "      <th>2</th>\n",
              "      <td>1</td>\n",
              "      <td>Et ne porte le noir qu'aux bons jours seulement.</td>\n",
              "    </tr>\n",
              "    <tr>\n",
              "      <th>3</th>\n",
              "      <td>1</td>\n",
              "      <td>Ce langage, il est vrai, peut être obscur parf...</td>\n",
              "    </tr>\n",
              "    <tr>\n",
              "      <th>4</th>\n",
              "      <td>1</td>\n",
              "      <td>Souvent nous avons peine à dire pourquoi c'est.</td>\n",
              "    </tr>\n",
              "  </tbody>\n",
              "</table>\n",
              "</div>\n",
              "      <button class=\"colab-df-convert\" onclick=\"convertToInteractive('df-69c6dd77-2c86-4cf7-925e-2a17f28de7f9')\"\n",
              "              title=\"Convert this dataframe to an interactive table.\"\n",
              "              style=\"display:none;\">\n",
              "        \n",
              "  <svg xmlns=\"http://www.w3.org/2000/svg\" height=\"24px\"viewBox=\"0 0 24 24\"\n",
              "       width=\"24px\">\n",
              "    <path d=\"M0 0h24v24H0V0z\" fill=\"none\"/>\n",
              "    <path d=\"M18.56 5.44l.94 2.06.94-2.06 2.06-.94-2.06-.94-.94-2.06-.94 2.06-2.06.94zm-11 1L8.5 8.5l.94-2.06 2.06-.94-2.06-.94L8.5 2.5l-.94 2.06-2.06.94zm10 10l.94 2.06.94-2.06 2.06-.94-2.06-.94-.94-2.06-.94 2.06-2.06.94z\"/><path d=\"M17.41 7.96l-1.37-1.37c-.4-.4-.92-.59-1.43-.59-.52 0-1.04.2-1.43.59L10.3 9.45l-7.72 7.72c-.78.78-.78 2.05 0 2.83L4 21.41c.39.39.9.59 1.41.59.51 0 1.02-.2 1.41-.59l7.78-7.78 2.81-2.81c.8-.78.8-2.07 0-2.86zM5.41 20L4 18.59l7.72-7.72 1.47 1.35L5.41 20z\"/>\n",
              "  </svg>\n",
              "      </button>\n",
              "      \n",
              "  <style>\n",
              "    .colab-df-container {\n",
              "      display:flex;\n",
              "      flex-wrap:wrap;\n",
              "      gap: 12px;\n",
              "    }\n",
              "\n",
              "    .colab-df-convert {\n",
              "      background-color: #E8F0FE;\n",
              "      border: none;\n",
              "      border-radius: 50%;\n",
              "      cursor: pointer;\n",
              "      display: none;\n",
              "      fill: #1967D2;\n",
              "      height: 32px;\n",
              "      padding: 0 0 0 0;\n",
              "      width: 32px;\n",
              "    }\n",
              "\n",
              "    .colab-df-convert:hover {\n",
              "      background-color: #E2EBFA;\n",
              "      box-shadow: 0px 1px 2px rgba(60, 64, 67, 0.3), 0px 1px 3px 1px rgba(60, 64, 67, 0.15);\n",
              "      fill: #174EA6;\n",
              "    }\n",
              "\n",
              "    [theme=dark] .colab-df-convert {\n",
              "      background-color: #3B4455;\n",
              "      fill: #D2E3FC;\n",
              "    }\n",
              "\n",
              "    [theme=dark] .colab-df-convert:hover {\n",
              "      background-color: #434B5C;\n",
              "      box-shadow: 0px 1px 3px 1px rgba(0, 0, 0, 0.15);\n",
              "      filter: drop-shadow(0px 1px 2px rgba(0, 0, 0, 0.3));\n",
              "      fill: #FFFFFF;\n",
              "    }\n",
              "  </style>\n",
              "\n",
              "      <script>\n",
              "        const buttonEl =\n",
              "          document.querySelector('#df-69c6dd77-2c86-4cf7-925e-2a17f28de7f9 button.colab-df-convert');\n",
              "        buttonEl.style.display =\n",
              "          google.colab.kernel.accessAllowed ? 'block' : 'none';\n",
              "\n",
              "        async function convertToInteractive(key) {\n",
              "          const element = document.querySelector('#df-69c6dd77-2c86-4cf7-925e-2a17f28de7f9');\n",
              "          const dataTable =\n",
              "            await google.colab.kernel.invokeFunction('convertToInteractive',\n",
              "                                                     [key], {});\n",
              "          if (!dataTable) return;\n",
              "\n",
              "          const docLinkHtml = 'Like what you see? Visit the ' +\n",
              "            '<a target=\"_blank\" href=https://colab.research.google.com/notebooks/data_table.ipynb>data table notebook</a>'\n",
              "            + ' to learn more about interactive tables.';\n",
              "          element.innerHTML = '';\n",
              "          dataTable['output_type'] = 'display_data';\n",
              "          await google.colab.output.renderOutput(dataTable, element);\n",
              "          const docLink = document.createElement('div');\n",
              "          docLink.innerHTML = docLinkHtml;\n",
              "          element.appendChild(docLink);\n",
              "        }\n",
              "      </script>\n",
              "    </div>\n",
              "  </div>\n",
              "  "
            ]
          },
          "metadata": {},
          "execution_count": 7
        }
      ]
    },
    {
      "cell_type": "markdown",
      "source": [
        "## Intégration des _embeddings_\n",
        "\n",
        "On prépare les données (on récupère les vecteurs de chaque mot s'ils ne sont pas des _stopwords_ et on fait la moyenne pour chaque extrait).\n",
        "\n",
        "⚠️ Il y a une ligne à changer si vous utilisez un modèle créé avec Gensim. Elle est indiquée.\n",
        "\n",
        "⚠️ Compter environ 5mn"
      ],
      "metadata": {
        "id": "xi0ebiUJ0_CS"
      }
    },
    {
      "cell_type": "code",
      "source": [
        "import nltk\n",
        "#On télécharge la liste des stopwords\n",
        "nltk.download('stopwords')\n",
        "\n",
        "#On crée un dataframe vide pour stocker les résultats\n",
        "docs_vectors = pd.DataFrame()\n",
        "#On retire les stopwords du français\n",
        "stopwords = nltk.corpus.stopwords.words('french')\n",
        "#on passe en revue tous les textes que l'on nettoie\n",
        "for doc in comTra['Texte'].str.lower().str.replace('[^a-z ]', ''):\n",
        "    # On crée un dataframe temporaire # creating a temporary dataframe(store value for 1st doc & for 2nd doc remove the details of 1st & proced through 2nd and so on..)\n",
        "    temp = pd.DataFrame()  \n",
        "    #On tokenize à la va vite avec les espaces\n",
        "    for word in doc.split(' '):\n",
        "      #Si le mot n'est pas dans la liste des stopwords\n",
        "        if word not in stopwords: \n",
        "            try:\n",
        "              # si le mot est présent dans les embeddings alors on continue\n",
        "                word_vec = MyModel[word] \n",
        "                # Commenter la ligne précédente et utiliser cette ligne si le modèle est créé avec gensim:\n",
        "                #word_vec = MyModel.wv[word] \n",
        "                # on l'ajoute au dataframe\n",
        "                temp = temp.append(pd.Series(word_vec), ignore_index = True) \n",
        "                #Sinon on ne fait rien\n",
        "            except:\n",
        "                pass\n",
        "    # on fait la moyenne de chaque colonne (w0, w1, w2,........w300)\n",
        "    doc_vector = temp.mean() \n",
        "    # On ajoute la valeur de chaque document au dataframe final \n",
        "    docs_vectors = docs_vectors.append(doc_vector, ignore_index = True) \n",
        "docs_vectors.shape"
      ],
      "metadata": {
        "id": "xFx-Vexr1Izx"
      },
      "execution_count": null,
      "outputs": []
    },
    {
      "cell_type": "markdown",
      "source": [
        "On nettoie le _dataframe_ si des valeurs sont absentes (_null_)"
      ],
      "metadata": {
        "id": "lSeLlz9B1MZu"
      }
    },
    {
      "cell_type": "code",
      "source": [
        "pd.isnull(docs_vectors).sum().sum()"
      ],
      "metadata": {
        "colab": {
          "base_uri": "https://localhost:8080/"
        },
        "id": "3-5SM_u-1PDh",
        "outputId": "ae52cbd2-bd6f-4d67-e171-069cc28eb3b4"
      },
      "execution_count": 30,
      "outputs": [
        {
          "output_type": "execute_result",
          "data": {
            "text/plain": [
              "648000"
            ]
          },
          "metadata": {},
          "execution_count": 30
        }
      ]
    },
    {
      "cell_type": "markdown",
      "source": [
        "On nettoie le _dataframe_ si des valeurs sont absentes (_NA_, pour _not available_).\n"
      ],
      "metadata": {
        "id": "6avNHDnp1UIA"
      }
    },
    {
      "cell_type": "code",
      "source": [
        "docs_vectors['Genre'] = comTra['Genre']\n",
        "docs_vectors = docs_vectors.dropna()"
      ],
      "metadata": {
        "id": "cOryQuc01WPi"
      },
      "execution_count": 31,
      "outputs": []
    },
    {
      "cell_type": "markdown",
      "source": [
        "## Classification\n",
        "\n",
        "Il faut d'abord préparer les données de _train_ et de _test_:"
      ],
      "metadata": {
        "id": "tZaMMhiM2g-S"
      }
    },
    {
      "cell_type": "code",
      "source": [
        "from sklearn.model_selection import train_test_split\n",
        "from sklearn.ensemble import AdaBoostClassifier\n",
        "\n",
        "train_x, test_x, train_y, test_y = train_test_split(docs_vectors.drop('Genre', axis = 1), #x axis\n",
        "                                                   docs_vectors['Genre'], #y axis\n",
        "                                                   test_size = 0.2,#20% servent pour le test\n",
        "                                                   random_state = 1)\n",
        "train_x.shape, train_y.shape, test_x.shape, test_y.shape"
      ],
      "metadata": {
        "colab": {
          "base_uri": "https://localhost:8080/"
        },
        "id": "XD51gq0G3k-h",
        "outputId": "369d7048-e683-4524-c040-bf31fc406474"
      },
      "execution_count": 32,
      "outputs": [
        {
          "output_type": "execute_result",
          "data": {
            "text/plain": [
              "((12040, 1000), (12040,), (3010, 1000), (3010,))"
            ]
          },
          "metadata": {},
          "execution_count": 32
        }
      ]
    },
    {
      "cell_type": "markdown",
      "source": [
        "### Un premier modèle: la forêt d'arbres décisionnels\n",
        "\n",
        "cf. [wikipedia](https://fr.wikipedia.org/wiki/For%C3%AAt_d%27arbres_d%C3%A9cisionnels)"
      ],
      "metadata": {
        "id": "loFP6cqC2lZR"
      }
    },
    {
      "cell_type": "code",
      "source": [
        "from sklearn.ensemble import RandomForestClassifier\n",
        "\n",
        "rf = RandomForestClassifier()\n",
        "rf.fit(train_x, train_y)"
      ],
      "metadata": {
        "colab": {
          "base_uri": "https://localhost:8080/",
          "height": 75
        },
        "id": "-mE1idjj2k__",
        "outputId": "eef2fdaf-0496-4a57-c39f-94f90ed997d2"
      },
      "execution_count": 33,
      "outputs": [
        {
          "output_type": "execute_result",
          "data": {
            "text/plain": [
              "RandomForestClassifier()"
            ],
            "text/html": [
              "<style>#sk-container-id-1 {color: black;background-color: white;}#sk-container-id-1 pre{padding: 0;}#sk-container-id-1 div.sk-toggleable {background-color: white;}#sk-container-id-1 label.sk-toggleable__label {cursor: pointer;display: block;width: 100%;margin-bottom: 0;padding: 0.3em;box-sizing: border-box;text-align: center;}#sk-container-id-1 label.sk-toggleable__label-arrow:before {content: \"▸\";float: left;margin-right: 0.25em;color: #696969;}#sk-container-id-1 label.sk-toggleable__label-arrow:hover:before {color: black;}#sk-container-id-1 div.sk-estimator:hover label.sk-toggleable__label-arrow:before {color: black;}#sk-container-id-1 div.sk-toggleable__content {max-height: 0;max-width: 0;overflow: hidden;text-align: left;background-color: #f0f8ff;}#sk-container-id-1 div.sk-toggleable__content pre {margin: 0.2em;color: black;border-radius: 0.25em;background-color: #f0f8ff;}#sk-container-id-1 input.sk-toggleable__control:checked~div.sk-toggleable__content {max-height: 200px;max-width: 100%;overflow: auto;}#sk-container-id-1 input.sk-toggleable__control:checked~label.sk-toggleable__label-arrow:before {content: \"▾\";}#sk-container-id-1 div.sk-estimator input.sk-toggleable__control:checked~label.sk-toggleable__label {background-color: #d4ebff;}#sk-container-id-1 div.sk-label input.sk-toggleable__control:checked~label.sk-toggleable__label {background-color: #d4ebff;}#sk-container-id-1 input.sk-hidden--visually {border: 0;clip: rect(1px 1px 1px 1px);clip: rect(1px, 1px, 1px, 1px);height: 1px;margin: -1px;overflow: hidden;padding: 0;position: absolute;width: 1px;}#sk-container-id-1 div.sk-estimator {font-family: monospace;background-color: #f0f8ff;border: 1px dotted black;border-radius: 0.25em;box-sizing: border-box;margin-bottom: 0.5em;}#sk-container-id-1 div.sk-estimator:hover {background-color: #d4ebff;}#sk-container-id-1 div.sk-parallel-item::after {content: \"\";width: 100%;border-bottom: 1px solid gray;flex-grow: 1;}#sk-container-id-1 div.sk-label:hover label.sk-toggleable__label {background-color: #d4ebff;}#sk-container-id-1 div.sk-serial::before {content: \"\";position: absolute;border-left: 1px solid gray;box-sizing: border-box;top: 0;bottom: 0;left: 50%;z-index: 0;}#sk-container-id-1 div.sk-serial {display: flex;flex-direction: column;align-items: center;background-color: white;padding-right: 0.2em;padding-left: 0.2em;position: relative;}#sk-container-id-1 div.sk-item {position: relative;z-index: 1;}#sk-container-id-1 div.sk-parallel {display: flex;align-items: stretch;justify-content: center;background-color: white;position: relative;}#sk-container-id-1 div.sk-item::before, #sk-container-id-1 div.sk-parallel-item::before {content: \"\";position: absolute;border-left: 1px solid gray;box-sizing: border-box;top: 0;bottom: 0;left: 50%;z-index: -1;}#sk-container-id-1 div.sk-parallel-item {display: flex;flex-direction: column;z-index: 1;position: relative;background-color: white;}#sk-container-id-1 div.sk-parallel-item:first-child::after {align-self: flex-end;width: 50%;}#sk-container-id-1 div.sk-parallel-item:last-child::after {align-self: flex-start;width: 50%;}#sk-container-id-1 div.sk-parallel-item:only-child::after {width: 0;}#sk-container-id-1 div.sk-dashed-wrapped {border: 1px dashed gray;margin: 0 0.4em 0.5em 0.4em;box-sizing: border-box;padding-bottom: 0.4em;background-color: white;}#sk-container-id-1 div.sk-label label {font-family: monospace;font-weight: bold;display: inline-block;line-height: 1.2em;}#sk-container-id-1 div.sk-label-container {text-align: center;}#sk-container-id-1 div.sk-container {/* jupyter's `normalize.less` sets `[hidden] { display: none; }` but bootstrap.min.css set `[hidden] { display: none !important; }` so we also need the `!important` here to be able to override the default hidden behavior on the sphinx rendered scikit-learn.org. See: https://github.com/scikit-learn/scikit-learn/issues/21755 */display: inline-block !important;position: relative;}#sk-container-id-1 div.sk-text-repr-fallback {display: none;}</style><div id=\"sk-container-id-1\" class=\"sk-top-container\"><div class=\"sk-text-repr-fallback\"><pre>RandomForestClassifier()</pre><b>In a Jupyter environment, please rerun this cell to show the HTML representation or trust the notebook. <br />On GitHub, the HTML representation is unable to render, please try loading this page with nbviewer.org.</b></div><div class=\"sk-container\" hidden><div class=\"sk-item\"><div class=\"sk-estimator sk-toggleable\"><input class=\"sk-toggleable__control sk-hidden--visually\" id=\"sk-estimator-id-1\" type=\"checkbox\" checked><label for=\"sk-estimator-id-1\" class=\"sk-toggleable__label sk-toggleable__label-arrow\">RandomForestClassifier</label><div class=\"sk-toggleable__content\"><pre>RandomForestClassifier()</pre></div></div></div></div></div>"
            ]
          },
          "metadata": {},
          "execution_count": 33
        }
      ]
    },
    {
      "cell_type": "markdown",
      "source": [
        "On regarde la qualité du modèle. D'abord on récupère les prédictions sur le test"
      ],
      "metadata": {
        "id": "Ogj5sQTz4vgI"
      }
    },
    {
      "cell_type": "code",
      "source": [
        "pred_y = rf.predict(test_x)"
      ],
      "metadata": {
        "id": "5XYRln3z2jfo"
      },
      "execution_count": 34,
      "outputs": []
    },
    {
      "cell_type": "markdown",
      "source": [
        "On peut sortir l'_accuracy_:"
      ],
      "metadata": {
        "id": "W-DdW9o843fi"
      }
    },
    {
      "cell_type": "code",
      "source": [
        "from sklearn.metrics import accuracy_score\n",
        "\n",
        "accuracy = accuracy_score(test_y, pred_y)\n",
        "print(\"Accuracy:\", accuracy)"
      ],
      "metadata": {
        "colab": {
          "base_uri": "https://localhost:8080/"
        },
        "id": "NrNsM2UC45iI",
        "outputId": "7ed89de8-da6f-4ecf-c16d-2e2a144a88d8"
      },
      "execution_count": 35,
      "outputs": [
        {
          "output_type": "stream",
          "name": "stdout",
          "text": [
            "Accuracy: 0.7498338870431893\n"
          ]
        }
      ]
    },
    {
      "cell_type": "markdown",
      "source": [
        "Nous pouvons regarder à quoi ressemble les arbres (ici les trois premiers avec une profondeur de 2):"
      ],
      "metadata": {
        "id": "x8eJG_u-A0Wf"
      }
    },
    {
      "cell_type": "code",
      "source": [
        "from sklearn.tree import export_graphviz\n",
        "import graphviz\n",
        "\n",
        "for i in range(3):\n",
        "    tree = rf.estimators_[i]\n",
        "    dot_data = export_graphviz(tree,\n",
        "                               feature_names=train_x.columns,  \n",
        "                               filled=True,  \n",
        "                               max_depth=2, \n",
        "                               impurity=False, \n",
        "                               proportion=True)\n",
        "    graph = graphviz.Source(dot_data)\n",
        "    display(graph)"
      ],
      "metadata": {
        "id": "YeWpY6HtA6NL"
      },
      "execution_count": null,
      "outputs": []
    },
    {
      "cell_type": "markdown",
      "source": [
        "### Hyperparamètres\n",
        "\n",
        "Nous avons précédemment utilisé les hyperparamètres par défaut. Il serait mieux de chercher les meilleurs hyperparamètres. `RandomizedSearchCV()` permet d'entraîner une multitude de modèles et ainsi de déterminer la meilleure configuration:\n",
        "- `n_jobs` est un paramètre technique qui permet de sélectionner un maximum de processeurs pour le job;\n",
        "- `n_iter` permet de déterminer le nombre de paramètre testés.\n",
        "Il existe une fonction `GridSearchCV` qui permet de tester tous les paramètres possibles\n",
        "\n",
        "\n",
        "Nous avons deux hyperparamètres à utiliser (il en existe d'autres)\n",
        "- `n_estimators` est le nombre d'arbres utilisés dans la forêt: on va comparer les résultats de chacun des arbres pourproposer une prédiction finale. Augmenter ce paramètre permet d'affiner le résultat, mais augmente le temps de calcul. La valeur dépend des performances de la machine et la valeur par défaut est 50;\n",
        "- `max_depth` permet de décider de la profondeur de chaque arbre (le nombre de fois qu'il va être splité). Une valeur trop élevée peut provoquer un sur-entraînement, l'inverse un sous-entraînement."
      ],
      "metadata": {
        "id": "1wFgQ5D45OlI"
      }
    },
    {
      "cell_type": "code",
      "source": [
        "from scipy.stats import randint\n",
        "from sklearn.model_selection import RandomizedSearchCV\n",
        "\n",
        "param_dist = {'n_estimators': randint(50,60),# On pourrait tester ici 50,500\n",
        "              'max_depth': randint(1,5)}#On pourrait tester ici 1,20\n",
        "\n",
        "# On crée une forêt d'arbres décisionnels\n",
        "rf = RandomForestClassifier()\n",
        "\n",
        "# Recherche aléatoire des meilleurs paramètres\n",
        "rand_search = RandomizedSearchCV(rf, \n",
        "                                 param_distributions = param_dist, \n",
        "                                 n_jobs = -1,\n",
        "                                 n_iter=5, \n",
        "                                 cv=5)\n",
        "\n",
        "# Fit the random search object to the data\n",
        "rand_search.fit(train_x, train_y)"
      ],
      "metadata": {
        "colab": {
          "base_uri": "https://localhost:8080/",
          "height": 118
        },
        "id": "ohNYFIdE5Qxl",
        "outputId": "72030e0a-dd9d-477b-e1a0-25eabf05d776"
      },
      "execution_count": 49,
      "outputs": [
        {
          "output_type": "execute_result",
          "data": {
            "text/plain": [
              "RandomizedSearchCV(cv=5, estimator=RandomForestClassifier(), n_iter=5,\n",
              "                   n_jobs=-1,\n",
              "                   param_distributions={'max_depth': <scipy.stats._distn_infrastructure.rv_discrete_frozen object at 0x7f44279ee6d0>,\n",
              "                                        'n_estimators': <scipy.stats._distn_infrastructure.rv_discrete_frozen object at 0x7f442823ea00>})"
            ],
            "text/html": [
              "<style>#sk-container-id-3 {color: black;background-color: white;}#sk-container-id-3 pre{padding: 0;}#sk-container-id-3 div.sk-toggleable {background-color: white;}#sk-container-id-3 label.sk-toggleable__label {cursor: pointer;display: block;width: 100%;margin-bottom: 0;padding: 0.3em;box-sizing: border-box;text-align: center;}#sk-container-id-3 label.sk-toggleable__label-arrow:before {content: \"▸\";float: left;margin-right: 0.25em;color: #696969;}#sk-container-id-3 label.sk-toggleable__label-arrow:hover:before {color: black;}#sk-container-id-3 div.sk-estimator:hover label.sk-toggleable__label-arrow:before {color: black;}#sk-container-id-3 div.sk-toggleable__content {max-height: 0;max-width: 0;overflow: hidden;text-align: left;background-color: #f0f8ff;}#sk-container-id-3 div.sk-toggleable__content pre {margin: 0.2em;color: black;border-radius: 0.25em;background-color: #f0f8ff;}#sk-container-id-3 input.sk-toggleable__control:checked~div.sk-toggleable__content {max-height: 200px;max-width: 100%;overflow: auto;}#sk-container-id-3 input.sk-toggleable__control:checked~label.sk-toggleable__label-arrow:before {content: \"▾\";}#sk-container-id-3 div.sk-estimator input.sk-toggleable__control:checked~label.sk-toggleable__label {background-color: #d4ebff;}#sk-container-id-3 div.sk-label input.sk-toggleable__control:checked~label.sk-toggleable__label {background-color: #d4ebff;}#sk-container-id-3 input.sk-hidden--visually {border: 0;clip: rect(1px 1px 1px 1px);clip: rect(1px, 1px, 1px, 1px);height: 1px;margin: -1px;overflow: hidden;padding: 0;position: absolute;width: 1px;}#sk-container-id-3 div.sk-estimator {font-family: monospace;background-color: #f0f8ff;border: 1px dotted black;border-radius: 0.25em;box-sizing: border-box;margin-bottom: 0.5em;}#sk-container-id-3 div.sk-estimator:hover {background-color: #d4ebff;}#sk-container-id-3 div.sk-parallel-item::after {content: \"\";width: 100%;border-bottom: 1px solid gray;flex-grow: 1;}#sk-container-id-3 div.sk-label:hover label.sk-toggleable__label {background-color: #d4ebff;}#sk-container-id-3 div.sk-serial::before {content: \"\";position: absolute;border-left: 1px solid gray;box-sizing: border-box;top: 0;bottom: 0;left: 50%;z-index: 0;}#sk-container-id-3 div.sk-serial {display: flex;flex-direction: column;align-items: center;background-color: white;padding-right: 0.2em;padding-left: 0.2em;position: relative;}#sk-container-id-3 div.sk-item {position: relative;z-index: 1;}#sk-container-id-3 div.sk-parallel {display: flex;align-items: stretch;justify-content: center;background-color: white;position: relative;}#sk-container-id-3 div.sk-item::before, #sk-container-id-3 div.sk-parallel-item::before {content: \"\";position: absolute;border-left: 1px solid gray;box-sizing: border-box;top: 0;bottom: 0;left: 50%;z-index: -1;}#sk-container-id-3 div.sk-parallel-item {display: flex;flex-direction: column;z-index: 1;position: relative;background-color: white;}#sk-container-id-3 div.sk-parallel-item:first-child::after {align-self: flex-end;width: 50%;}#sk-container-id-3 div.sk-parallel-item:last-child::after {align-self: flex-start;width: 50%;}#sk-container-id-3 div.sk-parallel-item:only-child::after {width: 0;}#sk-container-id-3 div.sk-dashed-wrapped {border: 1px dashed gray;margin: 0 0.4em 0.5em 0.4em;box-sizing: border-box;padding-bottom: 0.4em;background-color: white;}#sk-container-id-3 div.sk-label label {font-family: monospace;font-weight: bold;display: inline-block;line-height: 1.2em;}#sk-container-id-3 div.sk-label-container {text-align: center;}#sk-container-id-3 div.sk-container {/* jupyter's `normalize.less` sets `[hidden] { display: none; }` but bootstrap.min.css set `[hidden] { display: none !important; }` so we also need the `!important` here to be able to override the default hidden behavior on the sphinx rendered scikit-learn.org. See: https://github.com/scikit-learn/scikit-learn/issues/21755 */display: inline-block !important;position: relative;}#sk-container-id-3 div.sk-text-repr-fallback {display: none;}</style><div id=\"sk-container-id-3\" class=\"sk-top-container\"><div class=\"sk-text-repr-fallback\"><pre>RandomizedSearchCV(cv=5, estimator=RandomForestClassifier(), n_iter=5,\n",
              "                   n_jobs=-1,\n",
              "                   param_distributions={&#x27;max_depth&#x27;: &lt;scipy.stats._distn_infrastructure.rv_discrete_frozen object at 0x7f44279ee6d0&gt;,\n",
              "                                        &#x27;n_estimators&#x27;: &lt;scipy.stats._distn_infrastructure.rv_discrete_frozen object at 0x7f442823ea00&gt;})</pre><b>In a Jupyter environment, please rerun this cell to show the HTML representation or trust the notebook. <br />On GitHub, the HTML representation is unable to render, please try loading this page with nbviewer.org.</b></div><div class=\"sk-container\" hidden><div class=\"sk-item sk-dashed-wrapped\"><div class=\"sk-label-container\"><div class=\"sk-label sk-toggleable\"><input class=\"sk-toggleable__control sk-hidden--visually\" id=\"sk-estimator-id-5\" type=\"checkbox\" ><label for=\"sk-estimator-id-5\" class=\"sk-toggleable__label sk-toggleable__label-arrow\">RandomizedSearchCV</label><div class=\"sk-toggleable__content\"><pre>RandomizedSearchCV(cv=5, estimator=RandomForestClassifier(), n_iter=5,\n",
              "                   n_jobs=-1,\n",
              "                   param_distributions={&#x27;max_depth&#x27;: &lt;scipy.stats._distn_infrastructure.rv_discrete_frozen object at 0x7f44279ee6d0&gt;,\n",
              "                                        &#x27;n_estimators&#x27;: &lt;scipy.stats._distn_infrastructure.rv_discrete_frozen object at 0x7f442823ea00&gt;})</pre></div></div></div><div class=\"sk-parallel\"><div class=\"sk-parallel-item\"><div class=\"sk-item\"><div class=\"sk-label-container\"><div class=\"sk-label sk-toggleable\"><input class=\"sk-toggleable__control sk-hidden--visually\" id=\"sk-estimator-id-6\" type=\"checkbox\" ><label for=\"sk-estimator-id-6\" class=\"sk-toggleable__label sk-toggleable__label-arrow\">estimator: RandomForestClassifier</label><div class=\"sk-toggleable__content\"><pre>RandomForestClassifier()</pre></div></div></div><div class=\"sk-serial\"><div class=\"sk-item\"><div class=\"sk-estimator sk-toggleable\"><input class=\"sk-toggleable__control sk-hidden--visually\" id=\"sk-estimator-id-7\" type=\"checkbox\" ><label for=\"sk-estimator-id-7\" class=\"sk-toggleable__label sk-toggleable__label-arrow\">RandomForestClassifier</label><div class=\"sk-toggleable__content\"><pre>RandomForestClassifier()</pre></div></div></div></div></div></div></div></div></div></div>"
            ]
          },
          "metadata": {},
          "execution_count": 49
        }
      ]
    },
    {
      "cell_type": "markdown",
      "source": [
        "On affiche les meilleurs paramètres:"
      ],
      "metadata": {
        "id": "IwKYgiDVBJDn"
      }
    },
    {
      "cell_type": "code",
      "source": [
        "# On crée une variable pour le meilleur modèle\n",
        "best_rf = rand_search.best_estimator_\n",
        "\n",
        "# On affiche les hyperparamètres\n",
        "print('Best hyperparameters:',  rand_search.best_params_)"
      ],
      "metadata": {
        "colab": {
          "base_uri": "https://localhost:8080/"
        },
        "id": "5HUPxwhRBM9x",
        "outputId": "29c7ecb7-e658-4b77-a227-cbc5c626aa74"
      },
      "execution_count": 50,
      "outputs": [
        {
          "output_type": "stream",
          "name": "stdout",
          "text": [
            "Best hyperparameters: {'max_depth': 5, 'n_estimators': 53}\n"
          ]
        }
      ]
    },
    {
      "cell_type": "markdown",
      "source": [
        "### Métriques\n",
        "\n",
        "La simple _accuracy_ peut paraître un peu imprécise. Tentons de construire une matrice de confusion pour regarder le nombre d'erreurs:"
      ],
      "metadata": {
        "id": "wN5zqmG1BaHA"
      }
    },
    {
      "cell_type": "code",
      "source": [
        "from sklearn.metrics import confusion_matrix, ConfusionMatrixDisplay\n",
        "\n",
        "# Generate predictions with the best model\n",
        "y_pred = best_rf.predict(test_x)\n",
        "\n",
        "# Create the confusion matrix\n",
        "cm = confusion_matrix(test_y, pred_y)\n",
        "\n",
        "ConfusionMatrixDisplay(confusion_matrix=cm).plot();"
      ],
      "metadata": {
        "colab": {
          "base_uri": "https://localhost:8080/",
          "height": 449
        },
        "id": "GKT-qdrJBhVP",
        "outputId": "d367767f-3869-4de1-cbef-5e86a87e3bc2"
      },
      "execution_count": 51,
      "outputs": [
        {
          "output_type": "display_data",
          "data": {
            "text/plain": [
              "<Figure size 640x480 with 2 Axes>"
            ],
            "image/png": "[encoded data removed]"
          },
          "metadata": {}
        }
      ]
    },
    {
      "cell_type": "code",
      "source": [
        "from sklearn.metrics import precision_score, recall_score\n",
        "\n",
        "pred_y = best_rf.predict(test_x)\n",
        "\n",
        "accuracy = accuracy_score(test_y, pred_y)\n",
        "precision = precision_score(test_y, pred_y)\n",
        "recall = recall_score(test_y, pred_y)\n",
        "\n",
        "print(\"Accuracy:\", accuracy)\n",
        "print(\"Precision:\", precision)\n",
        "print(\"Recall:\", recall)"
      ],
      "metadata": {
        "colab": {
          "base_uri": "https://localhost:8080/"
        },
        "id": "orGJc2cxB1AQ",
        "outputId": "f216ef5e-9a01-4f1c-e4a2-9c67530c7eaf"
      },
      "execution_count": 52,
      "outputs": [
        {
          "output_type": "stream",
          "name": "stdout",
          "text": [
            "Accuracy: 0.7498338870431893\n",
            "Precision: 0.7649734647460197\n",
            "Recall: 0.6949035812672176\n"
          ]
        }
      ]
    },
    {
      "cell_type": "markdown",
      "source": [
        "Nous pouvons afficher tout cela sous une autre forme:"
      ],
      "metadata": {
        "id": "hzKOOu7tH_Jj"
      }
    },
    {
      "cell_type": "code",
      "source": [
        "from sklearn.metrics import classification_report\n",
        "\n",
        "predictions = best_rf.predict(test_x) \n",
        "print(classification_report(test_y, predictions)) "
      ],
      "metadata": {
        "colab": {
          "base_uri": "https://localhost:8080/"
        },
        "id": "nJYXtT-pH0x_",
        "outputId": "eb54ded0-d449-4106-cd11-899887a87fc5"
      },
      "execution_count": 54,
      "outputs": [
        {
          "output_type": "stream",
          "name": "stdout",
          "text": [
            "              precision    recall  f1-score   support\n",
            "\n",
            "           0       0.65      0.76      0.70      1558\n",
            "           1       0.69      0.56      0.62      1452\n",
            "\n",
            "    accuracy                           0.67      3010\n",
            "   macro avg       0.67      0.66      0.66      3010\n",
            "weighted avg       0.67      0.67      0.66      3010\n",
            "\n"
          ]
        }
      ]
    },
    {
      "cell_type": "markdown",
      "source": [
        "## D'autres méthodes"
      ],
      "metadata": {
        "id": "bPVrPh67IIRe"
      }
    },
    {
      "cell_type": "markdown",
      "source": [
        "### `AdaBoost`\n",
        "\n",
        "`AdaBoost` est un méta-algorithme de _boosting_, utilisé en association avec d'autres types d'algorithme, comme la forêt d'arbres décisionnels.\n",
        "\n",
        "cf. [wikipedia](https://fr.wikipedia.org/wiki/AdaBoost)\n",
        "\n",
        "Les paramètres possibles sont: \n",
        "- `base_estimator` qui permet de sélectionner le type de classifieur. C'est par défaut une forêt d'arbres décisionnels;\n",
        "- `n_estimators` permet de décider le nombre de modèles à entraîner\n",
        "\n",
        "⚠️ Cela va prendre beaucoup plus de temps que sans `AdaBoost`: compter plus de 4h20 avec les mêmes paramètres que précédemment… (alors que ça avait pris quelques minutes)."
      ],
      "metadata": {
        "id": "iuOV82e4I6kf"
      }
    },
    {
      "cell_type": "code",
      "source": [
        "from sklearn.ensemble import AdaBoostClassifier\n",
        "\n",
        "param_dist = {'n_estimators': randint(50,60)}\n",
        "base_model = RandomForestClassifier()#On pourrait passer des hyperparamètres entre les parenthèses\n",
        "#On pourrait importer ici d'autres types de classifieurs. Il suffit de les importer avec sklearn, comme un SVC\n",
        "#from sklearn.svm import SVC\n",
        "#base_model=SVC(probability=True, kernel='linear')\n",
        "\n",
        "# On crée une forêt d'arbres décisionnels avec AdaBoost\n",
        "abc = AdaBoostClassifier(base_estimator=base_model)\n",
        "\n",
        "# Recherche aléatoire des meilleurs paramètres\n",
        "rand_search_abc = RandomizedSearchCV(abc, \n",
        "                                 param_distributions = param_dist, \n",
        "                                 n_jobs = -1,\n",
        "                                 n_iter=5, \n",
        "                                 cv=5)\n",
        "\n",
        "# Fit the random search object to the data\n",
        "rand_search_abc.fit(train_x, train_y)"
      ],
      "metadata": {
        "id": "YnSQDPzYIHk7"
      },
      "execution_count": null,
      "outputs": []
    },
    {
      "cell_type": "markdown",
      "source": [
        "On affiche les meilleurs paramètres:"
      ],
      "metadata": {
        "id": "uYkSMsHXY8qa"
      }
    },
    {
      "cell_type": "code",
      "source": [
        "# On crée une variable pour le meilleur modèle\n",
        "best_abc = rand_search_abc.best_estimator_\n",
        "\n",
        "# On affiche les hyperparamètres\n",
        "print('Best hyperparameters:',  rand_search_abc.best_params_)"
      ],
      "metadata": {
        "id": "mP8a-1cVJ9WK"
      },
      "execution_count": null,
      "outputs": []
    },
    {
      "cell_type": "markdown",
      "source": [
        "Regardons les résultats:"
      ],
      "metadata": {
        "id": "-kz0dhcVJew0"
      }
    },
    {
      "cell_type": "code",
      "source": [
        "predictions = best_abc.predict(test_x) \n",
        "print(classification_report(test_y, predictions)) "
      ],
      "metadata": {
        "id": "d3hr9Hs_Jgp7"
      },
      "execution_count": null,
      "outputs": []
    },
    {
      "cell_type": "markdown",
      "source": [
        "### Machines à vecteurs de supports\n",
        "\n",
        "On parle aussi de séparateurs à vaste marge (SVM)\n",
        "\n",
        "Les paramètres sont:\n",
        "- `C`: constante de régularisation (C) qui permet de contrôler la marge (ou l'erreur). La régularisation est d'autant plus forte que C est proche de 0\n",
        "- `kernel` est le type de noyau utilisé\n",
        "- `gamma` est le paramètre d’échelle du noyau (γ) pour un noyau RBF. Si le paramètre a une valeur trop petite on est en situation de sous-apprentissage, si le paramètre a une valeur trop trop grande on est en situation de sur-apprentissage.\n",
        "\n",
        "cf. [wikipedia](https://fr.wikipedia.org/wiki/Machine_%C3%A0_vecteurs_de_support)\n"
      ],
      "metadata": {
        "id": "8EC7WECPPQH-"
      }
    },
    {
      "cell_type": "code",
      "source": [
        "from sklearn import svm\n",
        "\n",
        "param_dist = {'C': [0.1, 1, 10, 100, 1000], \n",
        "              'kernel': ['linear','sigmoid']} \n",
        "              \n",
        "\n",
        "# On crée une SVM\n",
        "mvs = svm.SVC()\n",
        "\n",
        "# Recherche aléatoire des meilleurs paramètres\n",
        "rand_search_mvs = RandomizedSearchCV(mvs, \n",
        "                                 param_distributions = param_dist, \n",
        "                                 n_jobs = -1,\n",
        "                                 n_iter=5, \n",
        "                                 cv=5,\n",
        "                                 verbose = 3)\n",
        "\n",
        "# Fit the random search object to the data\n",
        "rand_search_mvs.fit(train_x, train_y)"
      ],
      "metadata": {
        "id": "RTq__QrcPkYF"
      },
      "execution_count": null,
      "outputs": []
    },
    {
      "cell_type": "markdown",
      "source": [
        "On affiche les meilleurs paramètres:"
      ],
      "metadata": {
        "id": "nky_YEXiYqB6"
      }
    },
    {
      "cell_type": "code",
      "source": [
        "# On crée une variable pour le meilleur modèle\n",
        "best_mvs = rand_search_mvs.best_estimator_\n",
        "\n",
        "# On affiche les hyperparamètres\n",
        "print('Best hyperparameters:',  rand_search_mvs.best_params_)"
      ],
      "metadata": {
        "id": "CKTnx_FeYqre"
      },
      "execution_count": null,
      "outputs": []
    },
    {
      "cell_type": "markdown",
      "source": [
        "Regardons les résultats:"
      ],
      "metadata": {
        "id": "I30YNgaHY-Wx"
      }
    },
    {
      "cell_type": "code",
      "source": [
        "predictions = best_mvs.predict(test_x) \n",
        "print(classification_report(test_y, predictions)) "
      ],
      "metadata": {
        "id": "xxSn_IHXYx_n"
      },
      "execution_count": null,
      "outputs": []
    },
    {
      "cell_type": "markdown",
      "source": [
        "### Méthode des k plus proches voisins\n",
        "\n",
        "cf. [wikipedia](https://fr.wikipedia.org/wiki/M%C3%A9thode_des_k_plus_proches_voisins)\n",
        "\n",
        "Hyperparamètre:\n",
        "- `n_neighbors` permet de définir le nombre de `k` voisin.s. Doit être un `int`;\n",
        "- `weights` permet d'ajouter des poids aux points;\n",
        "- `metric` permet de tester différentes mesures de distance."
      ],
      "metadata": {
        "id": "vXTMRoRxZVgQ"
      }
    },
    {
      "cell_type": "code",
      "source": [
        "from sklearn.neighbors import KNeighborsClassifier\n",
        "              \n",
        "param_dist = {'n_neighbors': randint(1,5),\n",
        "              'weights' : ['uniform','distance'],\n",
        "              'metric' : ['minkowski','euclidean','manhattan']}\n",
        "\n",
        "# On crée un classifieur KNN\n",
        "knn = KNeighborsClassifier()\n",
        "\n",
        "# Recherche aléatoire des meilleurs paramètres\n",
        "rand_search_knn = RandomizedSearchCV(knn, \n",
        "                                 param_distributions = param_dist, \n",
        "                                 n_jobs = -1,\n",
        "                                 n_iter=5, \n",
        "                                 cv=5,\n",
        "                                 verbose = 3)\n",
        "\n",
        "# Fit the random search object to the data\n",
        "rand_search_knn.fit(train_x, train_y)"
      ],
      "metadata": {
        "id": "oYs5wftxZhmc"
      },
      "execution_count": null,
      "outputs": []
    },
    {
      "cell_type": "markdown",
      "source": [
        "On affiche les meilleurs paramètres:"
      ],
      "metadata": {
        "id": "S1YgW3i6awEE"
      }
    },
    {
      "cell_type": "code",
      "source": [
        "# On crée une variable pour le meilleur modèle\n",
        "best_knn = rand_search_knn.best_estimator_\n",
        "\n",
        "# On affiche les hyperparamètres\n",
        "print('Best hyperparameters:',  rand_search_knn.best_params_)"
      ],
      "metadata": {
        "id": "JOoVRIvraxh_"
      },
      "execution_count": null,
      "outputs": []
    },
    {
      "cell_type": "markdown",
      "source": [
        "Regardons les résultats:"
      ],
      "metadata": {
        "id": "u-zg4nfha2NY"
      }
    },
    {
      "cell_type": "code",
      "source": [
        "predictions = best_knn.predict(test_x) \n",
        "print(classification_report(test_y, predictions)) "
      ],
      "metadata": {
        "id": "D5SIKEm_a3oa"
      },
      "execution_count": null,
      "outputs": []
    }
  ]
}